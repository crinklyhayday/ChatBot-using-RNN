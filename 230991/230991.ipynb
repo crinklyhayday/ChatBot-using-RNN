{
  "nbformat": 4,
  "nbformat_minor": 0,
  "metadata": {
    "colab": {
      "provenance": []
    },
    "kernelspec": {
      "name": "python3",
      "display_name": "Python 3"
    },
    "language_info": {
      "name": "python"
    }
  },
  "cells": [
    {
      "cell_type": "code",
      "source": [
        "import numpy as np\n",
        "import csv\n",
        "import pandas as pd\n",
        "\n",
        "dataraw = pd.read_csv('train (1).csv')\n",
        "dataraw = dataraw.drop(columns = ['PassengerId','Name'])"
      ],
      "metadata": {
        "id": "aeajqIHBKqNn"
      },
      "execution_count": 122,
      "outputs": []
    },
    {
      "cell_type": "code",
      "source": [
        "from sklearn import preprocessing\n",
        "label_encoder_1=preprocessing.LabelEncoder()\n",
        "label_encoder_2=preprocessing.LabelEncoder()\n",
        "label_encoder_3=preprocessing.LabelEncoder()\n",
        "label_encoder_4=preprocessing.LabelEncoder()\n",
        "label_encoder_5=preprocessing.LabelEncoder()\n",
        "label_encoder_6=preprocessing.LabelEncoder()\n",
        "label_encoder_7=preprocessing.LabelEncoder()\n",
        "label_encoder_8=preprocessing.LabelEncoder()"
      ],
      "metadata": {
        "id": "ib4IJg4uLHnI"
      },
      "execution_count": 123,
      "outputs": []
    },
    {
      "cell_type": "code",
      "source": [
        "def preprocess(data):\n",
        "  data['Pclass']= label_encoder_1.fit_transform(data['Pclass'])\n",
        "  data['Age']= label_encoder_2.fit_transform(data['Age'])\n",
        "  data['SibSp']= label_encoder_3.fit_transform(data['SibSp'])\n",
        "  data['Parch']= label_encoder_4.fit_transform(data['Parch'])\n",
        "  data['Cabin']= label_encoder_5.fit_transform(data['Cabin'])\n",
        "  data['Fare']= label_encoder_6.fit_transform(data['Fare'])\n",
        "  data['Embarked']= label_encoder_7.fit_transform(data['Embarked'])\n",
        "  data['Ticket']= label_encoder_8.fit_transform(data['Ticket'])\n",
        "  data['Sex'] = data['Sex'].map({'male':1,'female':0})\n",
        "  return data\n",
        "\n"
      ],
      "metadata": {
        "id": "aJXEE4dEVRVw"
      },
      "execution_count": 124,
      "outputs": []
    },
    {
      "cell_type": "code",
      "source": [
        "data=preprocess(dataraw)\n",
        "data=data.fillna(data.mean(numeric_only=True))"
      ],
      "metadata": {
        "id": "zBkaE0P-Y1vR"
      },
      "execution_count": 125,
      "outputs": []
    },
    {
      "cell_type": "code",
      "source": [
        "data = data.astype(float)\n",
        "X=data.drop(columns=['Survived'])\n",
        "y=data['Survived']\n",
        "y=y.to_numpy()"
      ],
      "metadata": {
        "id": "ClAwgRd5ZUJI"
      },
      "execution_count": 126,
      "outputs": []
    },
    {
      "cell_type": "code",
      "source": [
        "def sigmoid(z):\n",
        "  return 1/(1+(np.exp(-z)))"
      ],
      "metadata": {
        "id": "goqyJK4pK3g0"
      },
      "execution_count": 127,
      "outputs": []
    },
    {
      "cell_type": "code",
      "execution_count": 128,
      "metadata": {
        "colab": {
          "base_uri": "https://localhost:8080/"
        },
        "id": "luW4U_UAvCDX",
        "outputId": "163bc2db-00a7-4af4-bbf2-a84ccc3ce22c"
      },
      "outputs": [
        {
          "output_type": "stream",
          "name": "stdout",
          "text": [
            "[-0.02027674 -0.15490744 -0.55573281 -1.95668038 -0.21778274  0.01077224\n",
            " -0.5312527   1.72724456 -0.73556151 -0.37309511]\n"
          ]
        },
        {
          "output_type": "stream",
          "name": "stderr",
          "text": [
            "<ipython-input-127-35506de03d56>:2: RuntimeWarning: overflow encountered in exp\n",
            "  return 1/(1+(np.exp(-z)))\n"
          ]
        }
      ],
      "source": [
        "X_bias = np.ones((X.shape[0],1))\n",
        "X = np.concatenate([X_bias,X],axis = 1)\n",
        "num_iterations = 500\n",
        "lr = 0.01\n",
        "lambda_reg = 0.5\n",
        "h = None\n",
        "def logistic_regression (X,y,lr,num_iterations,lambda_reg):\n",
        "  global h\n",
        "  w = np.zeros(X.shape[1])\n",
        "  for _ in range(num_iterations):\n",
        "    h = sigmoid(np.dot(X,w))\n",
        "    gradient = (np.dot(X.T,(h-y)))*1/(X.shape[0]+lambda_reg*w)\n",
        "    w -= lr*gradient\n",
        "  return w\n",
        "\n",
        "w = logistic_regression (X,y,lr,num_iterations,lambda_reg)\n",
        "print(w)"
      ]
    },
    {
      "cell_type": "code",
      "source": [
        "def accuracy(h,w):\n",
        "  n=h.shape[0]\n",
        "  acc=0\n",
        "  for i in range(n):\n",
        "    if((h[i]>=0.5 and y[i]==1) or (h[i]<0.5 and y[i]==0)):\n",
        "      acc+=1\n",
        "  print(f\"Accuracy= {acc/n}\\n\")\n",
        "accuracy(h,w)"
      ],
      "metadata": {
        "colab": {
          "base_uri": "https://localhost:8080/"
        },
        "id": "wOvdaQdbcw0_",
        "outputId": "aea34a01-42ca-4f92-c360-f5e345836e5c"
      },
      "execution_count": 129,
      "outputs": [
        {
          "output_type": "stream",
          "name": "stdout",
          "text": [
            "Accuracy= 0.6408529741863075\n",
            "\n"
          ]
        }
      ]
    },
    {
      "cell_type": "code",
      "source": [
        "new_dataraw = pd.read_csv('test (1).csv')\n",
        "drop_col = new_dataraw[['PassengerId', 'Name']]\n",
        "new_dataraw = new_dataraw.drop(columns = ['PassengerId','Name'])\n",
        "new_data=preprocess(new_dataraw)\n",
        "new_data=new_data.fillna(new_data.mean(numeric_only=True))\n",
        "new_data = new_data.astype(float)\n",
        "data = data.astype(float)\n",
        "new_X=new_data\n",
        "new_X = np.concatenate([np.ones((new_X.shape[0], 1)), new_X], axis=1)\n",
        "new_predictions = sigmoid(np.dot(new_X, w))\n",
        "binary_predictions = (new_predictions >= 0.5).astype(int)\n",
        "new_data['Survived'] = binary_predictions\n",
        "new_data = pd.concat([ drop_col, new_data], axis=1)\n",
        "new_data['Sex'] = data['Sex'].map({1:'male',0:'female'})\n",
        "print(new_data)\n",
        "accuracy(h,w)\n",
        "new_data.to_csv('test (2).csv', index=False)\n",
        "\n"
      ],
      "metadata": {
        "colab": {
          "base_uri": "https://localhost:8080/"
        },
        "id": "_U4cfqZokuUA",
        "outputId": "d2679bec-47b0-46a4-f689-aadfa6c3c51f"
      },
      "execution_count": 130,
      "outputs": [
        {
          "output_type": "stream",
          "name": "stdout",
          "text": [
            "     PassengerId                                          Name  Pclass  \\\n",
            "0            892                              Kelly, Mr. James     2.0   \n",
            "1            893              Wilkes, Mrs. James (Ellen Needs)     2.0   \n",
            "2            894                     Myles, Mr. Thomas Francis     1.0   \n",
            "3            895                              Wirz, Mr. Albert     2.0   \n",
            "4            896  Hirvonen, Mrs. Alexander (Helga E Lindqvist)     2.0   \n",
            "..           ...                                           ...     ...   \n",
            "413         1305                            Spector, Mr. Woolf     2.0   \n",
            "414         1306                  Oliva y Ocana, Dona. Fermina     0.0   \n",
            "415         1307                  Saether, Mr. Simon Sivertsen     2.0   \n",
            "416         1308                           Ware, Mr. Frederick     2.0   \n",
            "417         1309                      Peter, Master. Michael J     2.0   \n",
            "\n",
            "        Sex   Age  SibSp  Parch  Ticket   Fare  Cabin  Embarked  Survived  \n",
            "0      male  44.0    0.0    0.0   152.0   24.0   76.0       1.0         0  \n",
            "1    female  60.0    1.0    0.0   221.0    5.0   76.0       2.0         0  \n",
            "2    female  74.0    0.0    0.0    73.0   41.0   76.0       1.0         0  \n",
            "3    female  34.0    0.0    0.0   147.0   34.0   76.0       2.0         0  \n",
            "4      male  27.0    1.0    1.0   138.0   46.0   76.0       2.0         0  \n",
            "..      ...   ...    ...    ...     ...    ...    ...       ...       ...  \n",
            "413    male  79.0    0.0    0.0   267.0   31.0   76.0       2.0         0  \n",
            "414    male  51.0    0.0    0.0   324.0  154.0   22.0       0.0         0  \n",
            "415  female  50.0    0.0    0.0   346.0    9.0   76.0       2.0         0  \n",
            "416  female  79.0    0.0    0.0   220.0   31.0   76.0       2.0         0  \n",
            "417  female  79.0    1.0    1.0   105.0   84.0   76.0       0.0         0  \n",
            "\n",
            "[418 rows x 12 columns]\n",
            "Accuracy= 0.6408529741863075\n",
            "\n"
          ]
        }
      ]
    }
  ]
}